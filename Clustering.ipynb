{
 "cells": [
  {
   "cell_type": "code",
   "execution_count": 1,
   "metadata": {},
   "outputs": [],
   "source": [
    "doc = [\"The new coronavirus emerging from Wuhan\", \"China in December has infected nearly 81,191 people\", \n",
    "       \"killing 2,768 Concern is on the rise as infections are beginning to rise rapidly outside of China\", \n",
    "       \"but in an new, chilling prognosis, one scientist estimates that 40-70 per cent of the world will come to be infected by the coronavirus\",\n",
    "       \"I think the likely outcome is that it will ultimately not be containable says Harvard epidemiology professor Marc Lipsitch in an interview with the Atlantic.\",  \n",
    "       \"The scientist predicts that throughout the year nearly 40-70 per cent of people around the world will be infected.\",\n",
    "       \" He clarifies however, that it doesn’t mean they will all have severe illness.\",\n",
    "       \"It could be asymptomatic he says. It’s likely that many will have mild disease.\",\n",
    "\n",
    "       \"In January, China began to quarantine larger areas around Wuhan city,\",\n",
    "       \"eventually cordoning off nearly 100 million people. People were prevented from leaving their homes,\",\n",
    "       \"and lectured by drones if they were found outside\", \n",
    "\n",
    "        \"But the virus has come to roost in nearly 24 countries, seeing sharp rises in infections in countries like Italy and Iran which initially avoided the viral outbreak.\"\n",
    "\n",
    "         \"What’s changed?\",\n",
    "\n",
    "        \"For months, health officials operated on the assumption that it was not possible for the virus to infect a victim and spread without showing symptoms.\"\n",
    "       \"If the case were otherwise, it could pose a significant risk given that the virus can incubate for 14 days, making it that much more difficult to contain.\", \n",
    "\n",
    "        \"But only last week, 14 Americans tested positive for the coronavirus in a cruise ship off of Japan,in spite of feeling normal.\"\n",
    "\n",
    "        \"On Friday February 21, Chinese scientists published a coronavirus case where the virus spread from a patient that showed no symptoms.\"]"
   ]
  },
  {
   "cell_type": "code",
   "execution_count": 2,
   "metadata": {},
   "outputs": [],
   "source": [
    "from sklearn.feature_extraction.text import TfidfVectorizer\n",
    "from sklearn.cluster import KMeans\n",
    "import numpy as np\n",
    "import pandas as pd"
   ]
  },
  {
   "cell_type": "code",
   "execution_count": 3,
   "metadata": {},
   "outputs": [],
   "source": [
    "vectorizer = TfidfVectorizer(stop_words='english')\n",
    "X = vectorizer.fit_transform(doc)"
   ]
  },
  {
   "cell_type": "code",
   "execution_count": 4,
   "metadata": {},
   "outputs": [
    {
     "data": {
      "text/plain": [
       "KMeans(algorithm='auto', copy_x=True, init='k-means++', max_iter=100,\n",
       "       n_clusters=2, n_init=1, n_jobs=None, precompute_distances='auto',\n",
       "       random_state=None, tol=0.0001, verbose=0)"
      ]
     },
     "execution_count": 4,
     "metadata": {},
     "output_type": "execute_result"
    }
   ],
   "source": [
    "true_k = 2\n",
    "model = KMeans(n_clusters=true_k, init='k-means++', max_iter=100, n_init=1)\n",
    "model.fit(X)"
   ]
  },
  {
   "cell_type": "code",
   "execution_count": 5,
   "metadata": {},
   "outputs": [],
   "source": [
    "order_centroids = model.cluster_centers_.argsort()[:, ::-1]\n",
    "terms = vectorizer.get_feature_names()"
   ]
  },
  {
   "cell_type": "code",
   "execution_count": 7,
   "metadata": {},
   "outputs": [
    {
     "name": "stdout",
     "output_type": "stream",
     "text": [
      "Cluster 0\n",
      "rise\n",
      "china\n",
      "virus\n",
      "people\n",
      "infections\n",
      "countries\n",
      "nearly\n",
      "began\n",
      "quarantine\n",
      "january\n",
      "Cluster 1\n",
      "coronavirus\n",
      "infected\n",
      "new\n",
      "likely\n",
      "says\n",
      "people\n",
      "lectured\n",
      "drones\n",
      "40\n",
      "70\n"
     ]
    }
   ],
   "source": [
    "for i in range(true_k):\n",
    "    print(f\"Cluster {i}\")\n",
    "    for index in order_centroids[i, :10]:\n",
    "        print(f\"{terms[index]}\")"
   ]
  },
  {
   "cell_type": "code",
   "execution_count": null,
   "metadata": {},
   "outputs": [],
   "source": [
    "print(\"\\n\")\n",
    "print(\"Prediction\")\n",
    "X = vectorizer.transform([\"it was not possible for the virus to infect a victim and spread without showing symptoms. If the case were otherwise, it could pose a significant risk given that the virus can incubate for 14 days, making it that much more difficult to contain\"])\n",
    "predicted = model.predict(X)\n",
    "print(predicted)"
   ]
  },
  {
   "cell_type": "code",
   "execution_count": null,
   "metadata": {},
   "outputs": [],
   "source": []
  }
 ],
 "metadata": {
  "kernelspec": {
   "display_name": "Python 3",
   "language": "python",
   "name": "python3"
  },
  "language_info": {
   "codemirror_mode": {
    "name": "ipython",
    "version": 3
   },
   "file_extension": ".py",
   "mimetype": "text/x-python",
   "name": "python",
   "nbconvert_exporter": "python",
   "pygments_lexer": "ipython3",
   "version": "3.7.6"
  }
 },
 "nbformat": 4,
 "nbformat_minor": 4
}
